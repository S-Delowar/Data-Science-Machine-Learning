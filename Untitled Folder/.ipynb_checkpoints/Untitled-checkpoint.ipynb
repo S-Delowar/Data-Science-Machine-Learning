{
 "cells": [
  {
   "cell_type": "code",
   "execution_count": 1,
   "id": "a7dbfd02",
   "metadata": {},
   "outputs": [],
   "source": [
    "import pandas as pd\n",
    "from sklearn.datasets import make_classification"
   ]
  },
  {
   "cell_type": "code",
   "execution_count": 2,
   "id": "4e5f2e49",
   "metadata": {},
   "outputs": [],
   "source": [
    "x, y = make_classification(n_samples=60000, n_features= 30)"
   ]
  },
  {
   "cell_type": "code",
   "execution_count": 3,
   "id": "96bec372",
   "metadata": {},
   "outputs": [
    {
     "data": {
      "text/plain": [
       "(60000, 30)"
      ]
     },
     "execution_count": 3,
     "metadata": {},
     "output_type": "execute_result"
    }
   ],
   "source": [
    "x.shape"
   ]
  },
  {
   "cell_type": "code",
   "execution_count": 4,
   "id": "bb8e3ffb",
   "metadata": {},
   "outputs": [
    {
     "data": {
      "text/plain": [
       "(60000,)"
      ]
     },
     "execution_count": 4,
     "metadata": {},
     "output_type": "execute_result"
    }
   ],
   "source": [
    "y.shape"
   ]
  },
  {
   "cell_type": "code",
   "execution_count": 5,
   "id": "36b11220",
   "metadata": {},
   "outputs": [
    {
     "ename": "AttributeError",
     "evalue": "'numpy.ndarray' object has no attribute 'head'",
     "output_type": "error",
     "traceback": [
      "\u001b[1;31m---------------------------------------------------------------------------\u001b[0m",
      "\u001b[1;31mAttributeError\u001b[0m                            Traceback (most recent call last)",
      "Input \u001b[1;32mIn [5]\u001b[0m, in \u001b[0;36m<cell line: 1>\u001b[1;34m()\u001b[0m\n\u001b[1;32m----> 1\u001b[0m \u001b[43mx\u001b[49m\u001b[38;5;241;43m.\u001b[39;49m\u001b[43mhead\u001b[49m()\n",
      "\u001b[1;31mAttributeError\u001b[0m: 'numpy.ndarray' object has no attribute 'head'"
     ]
    }
   ],
   "source": [
    "x.head()"
   ]
  },
  {
   "cell_type": "code",
   "execution_count": 6,
   "id": "c2731111",
   "metadata": {},
   "outputs": [],
   "source": [
    "x = pd.DataFrame(x)\n",
    "y = pd.DataFrame(y)"
   ]
  },
  {
   "cell_type": "code",
   "execution_count": 7,
   "id": "e7547f9c",
   "metadata": {},
   "outputs": [
    {
     "data": {
      "text/html": [
       "<div>\n",
       "<style scoped>\n",
       "    .dataframe tbody tr th:only-of-type {\n",
       "        vertical-align: middle;\n",
       "    }\n",
       "\n",
       "    .dataframe tbody tr th {\n",
       "        vertical-align: top;\n",
       "    }\n",
       "\n",
       "    .dataframe thead th {\n",
       "        text-align: right;\n",
       "    }\n",
       "</style>\n",
       "<table border=\"1\" class=\"dataframe\">\n",
       "  <thead>\n",
       "    <tr style=\"text-align: right;\">\n",
       "      <th></th>\n",
       "      <th>0</th>\n",
       "      <th>1</th>\n",
       "      <th>2</th>\n",
       "      <th>3</th>\n",
       "      <th>4</th>\n",
       "      <th>5</th>\n",
       "      <th>6</th>\n",
       "      <th>7</th>\n",
       "      <th>8</th>\n",
       "      <th>9</th>\n",
       "      <th>...</th>\n",
       "      <th>20</th>\n",
       "      <th>21</th>\n",
       "      <th>22</th>\n",
       "      <th>23</th>\n",
       "      <th>24</th>\n",
       "      <th>25</th>\n",
       "      <th>26</th>\n",
       "      <th>27</th>\n",
       "      <th>28</th>\n",
       "      <th>29</th>\n",
       "    </tr>\n",
       "  </thead>\n",
       "  <tbody>\n",
       "    <tr>\n",
       "      <th>0</th>\n",
       "      <td>0.823511</td>\n",
       "      <td>-0.137427</td>\n",
       "      <td>-1.246524</td>\n",
       "      <td>-1.397456</td>\n",
       "      <td>1.473852</td>\n",
       "      <td>-1.652657</td>\n",
       "      <td>1.209307</td>\n",
       "      <td>0.215229</td>\n",
       "      <td>1.660977</td>\n",
       "      <td>-0.169253</td>\n",
       "      <td>...</td>\n",
       "      <td>1.208525</td>\n",
       "      <td>0.085705</td>\n",
       "      <td>2.574451</td>\n",
       "      <td>0.484605</td>\n",
       "      <td>-0.031757</td>\n",
       "      <td>1.029165</td>\n",
       "      <td>-1.076993</td>\n",
       "      <td>0.540534</td>\n",
       "      <td>0.959669</td>\n",
       "      <td>1.228510</td>\n",
       "    </tr>\n",
       "    <tr>\n",
       "      <th>1</th>\n",
       "      <td>0.657440</td>\n",
       "      <td>-1.477540</td>\n",
       "      <td>-0.868208</td>\n",
       "      <td>0.249285</td>\n",
       "      <td>-0.929358</td>\n",
       "      <td>-1.029508</td>\n",
       "      <td>0.877100</td>\n",
       "      <td>-0.107134</td>\n",
       "      <td>0.178401</td>\n",
       "      <td>-0.455474</td>\n",
       "      <td>...</td>\n",
       "      <td>1.044252</td>\n",
       "      <td>0.727751</td>\n",
       "      <td>-0.147350</td>\n",
       "      <td>-0.011676</td>\n",
       "      <td>1.113813</td>\n",
       "      <td>0.556364</td>\n",
       "      <td>0.433875</td>\n",
       "      <td>0.231775</td>\n",
       "      <td>0.751969</td>\n",
       "      <td>-0.450627</td>\n",
       "    </tr>\n",
       "    <tr>\n",
       "      <th>2</th>\n",
       "      <td>-0.823005</td>\n",
       "      <td>0.589055</td>\n",
       "      <td>-0.574597</td>\n",
       "      <td>1.162566</td>\n",
       "      <td>1.860684</td>\n",
       "      <td>-0.484025</td>\n",
       "      <td>-0.715428</td>\n",
       "      <td>-1.079369</td>\n",
       "      <td>0.498428</td>\n",
       "      <td>-1.538459</td>\n",
       "      <td>...</td>\n",
       "      <td>0.550833</td>\n",
       "      <td>-0.539277</td>\n",
       "      <td>-0.861366</td>\n",
       "      <td>0.694501</td>\n",
       "      <td>-0.923289</td>\n",
       "      <td>0.817530</td>\n",
       "      <td>0.740391</td>\n",
       "      <td>-1.077261</td>\n",
       "      <td>1.348192</td>\n",
       "      <td>1.144759</td>\n",
       "    </tr>\n",
       "    <tr>\n",
       "      <th>3</th>\n",
       "      <td>-0.067571</td>\n",
       "      <td>-0.051222</td>\n",
       "      <td>0.264623</td>\n",
       "      <td>1.220027</td>\n",
       "      <td>2.108112</td>\n",
       "      <td>0.330075</td>\n",
       "      <td>-0.142545</td>\n",
       "      <td>0.202764</td>\n",
       "      <td>-0.453189</td>\n",
       "      <td>-0.744618</td>\n",
       "      <td>...</td>\n",
       "      <td>-2.046489</td>\n",
       "      <td>0.070408</td>\n",
       "      <td>-0.090408</td>\n",
       "      <td>1.212078</td>\n",
       "      <td>-0.568275</td>\n",
       "      <td>-0.307668</td>\n",
       "      <td>-0.764094</td>\n",
       "      <td>1.069676</td>\n",
       "      <td>1.198691</td>\n",
       "      <td>-0.651995</td>\n",
       "    </tr>\n",
       "    <tr>\n",
       "      <th>4</th>\n",
       "      <td>1.145132</td>\n",
       "      <td>1.115417</td>\n",
       "      <td>-0.444576</td>\n",
       "      <td>0.306153</td>\n",
       "      <td>0.000521</td>\n",
       "      <td>2.124301</td>\n",
       "      <td>-0.882424</td>\n",
       "      <td>-1.055735</td>\n",
       "      <td>2.226886</td>\n",
       "      <td>1.270492</td>\n",
       "      <td>...</td>\n",
       "      <td>-1.079636</td>\n",
       "      <td>-1.045324</td>\n",
       "      <td>1.384281</td>\n",
       "      <td>0.286660</td>\n",
       "      <td>1.137647</td>\n",
       "      <td>-0.058723</td>\n",
       "      <td>-0.909732</td>\n",
       "      <td>-0.259051</td>\n",
       "      <td>0.084517</td>\n",
       "      <td>1.684555</td>\n",
       "    </tr>\n",
       "  </tbody>\n",
       "</table>\n",
       "<p>5 rows × 30 columns</p>\n",
       "</div>"
      ],
      "text/plain": [
       "         0         1         2         3         4         5         6   \\\n",
       "0  0.823511 -0.137427 -1.246524 -1.397456  1.473852 -1.652657  1.209307   \n",
       "1  0.657440 -1.477540 -0.868208  0.249285 -0.929358 -1.029508  0.877100   \n",
       "2 -0.823005  0.589055 -0.574597  1.162566  1.860684 -0.484025 -0.715428   \n",
       "3 -0.067571 -0.051222  0.264623  1.220027  2.108112  0.330075 -0.142545   \n",
       "4  1.145132  1.115417 -0.444576  0.306153  0.000521  2.124301 -0.882424   \n",
       "\n",
       "         7         8         9   ...        20        21        22        23  \\\n",
       "0  0.215229  1.660977 -0.169253  ...  1.208525  0.085705  2.574451  0.484605   \n",
       "1 -0.107134  0.178401 -0.455474  ...  1.044252  0.727751 -0.147350 -0.011676   \n",
       "2 -1.079369  0.498428 -1.538459  ...  0.550833 -0.539277 -0.861366  0.694501   \n",
       "3  0.202764 -0.453189 -0.744618  ... -2.046489  0.070408 -0.090408  1.212078   \n",
       "4 -1.055735  2.226886  1.270492  ... -1.079636 -1.045324  1.384281  0.286660   \n",
       "\n",
       "         24        25        26        27        28        29  \n",
       "0 -0.031757  1.029165 -1.076993  0.540534  0.959669  1.228510  \n",
       "1  1.113813  0.556364  0.433875  0.231775  0.751969 -0.450627  \n",
       "2 -0.923289  0.817530  0.740391 -1.077261  1.348192  1.144759  \n",
       "3 -0.568275 -0.307668 -0.764094  1.069676  1.198691 -0.651995  \n",
       "4  1.137647 -0.058723 -0.909732 -0.259051  0.084517  1.684555  \n",
       "\n",
       "[5 rows x 30 columns]"
      ]
     },
     "execution_count": 7,
     "metadata": {},
     "output_type": "execute_result"
    }
   ],
   "source": [
    "x.head()"
   ]
  },
  {
   "cell_type": "code",
   "execution_count": 8,
   "id": "d93a494f",
   "metadata": {},
   "outputs": [
    {
     "data": {
      "text/html": [
       "<div>\n",
       "<style scoped>\n",
       "    .dataframe tbody tr th:only-of-type {\n",
       "        vertical-align: middle;\n",
       "    }\n",
       "\n",
       "    .dataframe tbody tr th {\n",
       "        vertical-align: top;\n",
       "    }\n",
       "\n",
       "    .dataframe thead th {\n",
       "        text-align: right;\n",
       "    }\n",
       "</style>\n",
       "<table border=\"1\" class=\"dataframe\">\n",
       "  <thead>\n",
       "    <tr style=\"text-align: right;\">\n",
       "      <th></th>\n",
       "      <th>0</th>\n",
       "    </tr>\n",
       "  </thead>\n",
       "  <tbody>\n",
       "    <tr>\n",
       "      <th>0</th>\n",
       "      <td>0</td>\n",
       "    </tr>\n",
       "    <tr>\n",
       "      <th>1</th>\n",
       "      <td>0</td>\n",
       "    </tr>\n",
       "    <tr>\n",
       "      <th>2</th>\n",
       "      <td>1</td>\n",
       "    </tr>\n",
       "    <tr>\n",
       "      <th>3</th>\n",
       "      <td>0</td>\n",
       "    </tr>\n",
       "    <tr>\n",
       "      <th>4</th>\n",
       "      <td>0</td>\n",
       "    </tr>\n",
       "  </tbody>\n",
       "</table>\n",
       "</div>"
      ],
      "text/plain": [
       "   0\n",
       "0  0\n",
       "1  0\n",
       "2  1\n",
       "3  0\n",
       "4  0"
      ]
     },
     "execution_count": 8,
     "metadata": {},
     "output_type": "execute_result"
    }
   ],
   "source": [
    "y.head()"
   ]
  },
  {
   "cell_type": "code",
   "execution_count": 9,
   "id": "ef269625",
   "metadata": {},
   "outputs": [
    {
     "data": {
      "text/plain": [
       "0    30004\n",
       "1    29996\n",
       "dtype: int64"
      ]
     },
     "execution_count": 9,
     "metadata": {},
     "output_type": "execute_result"
    }
   ],
   "source": [
    "y.value_counts()"
   ]
  },
  {
   "cell_type": "code",
   "execution_count": 10,
   "id": "09c329e1",
   "metadata": {},
   "outputs": [],
   "source": [
    "from sklearn.model_selection import train_test_split\n",
    "xtrain, xtest, ytrain, ytest = train_test_split(x, y, test_size= 0.25, random_state= 42 )"
   ]
  },
  {
   "cell_type": "code",
   "execution_count": 11,
   "id": "291e99c0",
   "metadata": {},
   "outputs": [
    {
     "data": {
      "text/plain": [
       "(45000, 30)"
      ]
     },
     "execution_count": 11,
     "metadata": {},
     "output_type": "execute_result"
    }
   ],
   "source": [
    "xtrain.shape"
   ]
  },
  {
   "cell_type": "code",
   "execution_count": 12,
   "id": "a694cf8e",
   "metadata": {},
   "outputs": [
    {
     "data": {
      "text/plain": [
       "(15000, 30)"
      ]
     },
     "execution_count": 12,
     "metadata": {},
     "output_type": "execute_result"
    }
   ],
   "source": [
    "xtest.shape"
   ]
  },
  {
   "cell_type": "code",
   "execution_count": 13,
   "id": "16c7fb95",
   "metadata": {},
   "outputs": [],
   "source": [
    "from sklearn.tree import DecisionTreeClassifier\n",
    "clf = DecisionTreeClassifier()"
   ]
  },
  {
   "cell_type": "code",
   "execution_count": 14,
   "id": "659844d2",
   "metadata": {},
   "outputs": [
    {
     "data": {
      "text/plain": [
       "DecisionTreeClassifier()"
      ]
     },
     "execution_count": 14,
     "metadata": {},
     "output_type": "execute_result"
    }
   ],
   "source": [
    "clf.fit(xtrain, ytrain)"
   ]
  },
  {
   "cell_type": "code",
   "execution_count": 15,
   "id": "2c21a0d1",
   "metadata": {},
   "outputs": [
    {
     "data": {
      "text/plain": [
       "0.8617333333333334"
      ]
     },
     "execution_count": 15,
     "metadata": {},
     "output_type": "execute_result"
    }
   ],
   "source": [
    "clf.score(xtest, ytest)"
   ]
  },
  {
   "cell_type": "code",
   "execution_count": 16,
   "id": "544dc790",
   "metadata": {},
   "outputs": [],
   "source": [
    "train_scores = []\n",
    "test_scores = []"
   ]
  },
  {
   "cell_type": "code",
   "execution_count": 17,
   "id": "12c0b712",
   "metadata": {},
   "outputs": [],
   "source": [
    "max_dep = [n for n in range(1,30)]"
   ]
  },
  {
   "cell_type": "code",
   "execution_count": null,
   "id": "c9219314",
   "metadata": {},
   "outputs": [],
   "source": [
    "for depth in max_dep:\n",
    "    clf = DecisionTreeClassifier(max_depth= depth)\n",
    "    clf.fit(xtrain, ytrain)\n",
    "    \n",
    "    #train score\n",
    "    train_acc = clf.score(xtest, ytest)\n",
    "    train_scores.append(train_acc)\n",
    "    \n",
    "    #test score\n",
    "    test_acc = clf.score(xtest, ytest)\n",
    "    test_scores.append(test_acc)\n",
    "    \n",
    "    print('for depth = %d, traing_score = %2f, test_score = %f' %(depth, train_acc, test_acc))\n",
    "#     print('for depth = {}, Traing_Score = {}, Test_Score = {}'.format(depth, train_acc, test_acc))"
   ]
  },
  {
   "cell_type": "code",
   "execution_count": null,
   "id": "6b5fe48b",
   "metadata": {},
   "outputs": [],
   "source": []
  }
 ],
 "metadata": {
  "kernelspec": {
   "display_name": "Python 3 (ipykernel)",
   "language": "python",
   "name": "python3"
  },
  "language_info": {
   "codemirror_mode": {
    "name": "ipython",
    "version": 3
   },
   "file_extension": ".py",
   "mimetype": "text/x-python",
   "name": "python",
   "nbconvert_exporter": "python",
   "pygments_lexer": "ipython3",
   "version": "3.9.12"
  }
 },
 "nbformat": 4,
 "nbformat_minor": 5
}
