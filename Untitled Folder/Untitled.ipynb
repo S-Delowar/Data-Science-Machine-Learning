{
 "cells": [
  {
   "cell_type": "code",
   "execution_count": 1,
   "id": "a7dbfd02",
   "metadata": {},
   "outputs": [],
   "source": [
    "import pandas as pd\n",
    "from sklearn.datasets import make_classification"
   ]
  },
  {
   "cell_type": "code",
   "execution_count": 2,
   "id": "4e5f2e49",
   "metadata": {},
   "outputs": [],
   "source": [
    "x, y = make_classification(n_samples=60000, n_features= 30)"
   ]
  },
  {
   "cell_type": "code",
   "execution_count": 3,
   "id": "96bec372",
   "metadata": {},
   "outputs": [
    {
     "data": {
      "text/plain": [
       "(60000, 30)"
      ]
     },
     "execution_count": 3,
     "metadata": {},
     "output_type": "execute_result"
    }
   ],
   "source": [
    "x.shape"
   ]
  },
  {
   "cell_type": "code",
   "execution_count": 4,
   "id": "bb8e3ffb",
   "metadata": {},
   "outputs": [
    {
     "data": {
      "text/plain": [
       "(60000,)"
      ]
     },
     "execution_count": 4,
     "metadata": {},
     "output_type": "execute_result"
    }
   ],
   "source": [
    "y.shape"
   ]
  },
  {
   "cell_type": "code",
   "execution_count": 5,
   "id": "c2731111",
   "metadata": {},
   "outputs": [],
   "source": [
    "x = pd.DataFrame(x)\n",
    "y = pd.DataFrame(y)"
   ]
  },
  {
   "cell_type": "code",
   "execution_count": 6,
   "id": "e7547f9c",
   "metadata": {},
   "outputs": [
    {
     "data": {
      "text/html": [
       "<div>\n",
       "<style scoped>\n",
       "    .dataframe tbody tr th:only-of-type {\n",
       "        vertical-align: middle;\n",
       "    }\n",
       "\n",
       "    .dataframe tbody tr th {\n",
       "        vertical-align: top;\n",
       "    }\n",
       "\n",
       "    .dataframe thead th {\n",
       "        text-align: right;\n",
       "    }\n",
       "</style>\n",
       "<table border=\"1\" class=\"dataframe\">\n",
       "  <thead>\n",
       "    <tr style=\"text-align: right;\">\n",
       "      <th></th>\n",
       "      <th>0</th>\n",
       "      <th>1</th>\n",
       "      <th>2</th>\n",
       "      <th>3</th>\n",
       "      <th>4</th>\n",
       "      <th>5</th>\n",
       "      <th>6</th>\n",
       "      <th>7</th>\n",
       "      <th>8</th>\n",
       "      <th>9</th>\n",
       "      <th>...</th>\n",
       "      <th>20</th>\n",
       "      <th>21</th>\n",
       "      <th>22</th>\n",
       "      <th>23</th>\n",
       "      <th>24</th>\n",
       "      <th>25</th>\n",
       "      <th>26</th>\n",
       "      <th>27</th>\n",
       "      <th>28</th>\n",
       "      <th>29</th>\n",
       "    </tr>\n",
       "  </thead>\n",
       "  <tbody>\n",
       "    <tr>\n",
       "      <th>0</th>\n",
       "      <td>-1.518932</td>\n",
       "      <td>0.321300</td>\n",
       "      <td>0.945455</td>\n",
       "      <td>-0.072256</td>\n",
       "      <td>0.409473</td>\n",
       "      <td>-1.362995</td>\n",
       "      <td>-0.212862</td>\n",
       "      <td>-0.036770</td>\n",
       "      <td>-0.910688</td>\n",
       "      <td>0.954694</td>\n",
       "      <td>...</td>\n",
       "      <td>-0.819680</td>\n",
       "      <td>1.164624</td>\n",
       "      <td>-0.585391</td>\n",
       "      <td>-0.492094</td>\n",
       "      <td>-1.000171</td>\n",
       "      <td>-0.734669</td>\n",
       "      <td>-0.232060</td>\n",
       "      <td>0.444990</td>\n",
       "      <td>0.895813</td>\n",
       "      <td>-1.192356</td>\n",
       "    </tr>\n",
       "    <tr>\n",
       "      <th>1</th>\n",
       "      <td>-0.105203</td>\n",
       "      <td>-0.722051</td>\n",
       "      <td>1.086884</td>\n",
       "      <td>-0.039275</td>\n",
       "      <td>-0.921971</td>\n",
       "      <td>-0.678778</td>\n",
       "      <td>-0.867372</td>\n",
       "      <td>-1.513713</td>\n",
       "      <td>0.245102</td>\n",
       "      <td>0.588880</td>\n",
       "      <td>...</td>\n",
       "      <td>-0.770249</td>\n",
       "      <td>0.008376</td>\n",
       "      <td>0.545408</td>\n",
       "      <td>-0.446794</td>\n",
       "      <td>1.045767</td>\n",
       "      <td>-0.439551</td>\n",
       "      <td>-3.905215</td>\n",
       "      <td>-0.446686</td>\n",
       "      <td>1.982113</td>\n",
       "      <td>0.034076</td>\n",
       "    </tr>\n",
       "    <tr>\n",
       "      <th>2</th>\n",
       "      <td>-2.027633</td>\n",
       "      <td>-0.905148</td>\n",
       "      <td>0.167487</td>\n",
       "      <td>0.846800</td>\n",
       "      <td>-0.101617</td>\n",
       "      <td>-0.542838</td>\n",
       "      <td>0.339404</td>\n",
       "      <td>0.603289</td>\n",
       "      <td>-0.800783</td>\n",
       "      <td>0.191396</td>\n",
       "      <td>...</td>\n",
       "      <td>1.679454</td>\n",
       "      <td>1.225616</td>\n",
       "      <td>-1.641671</td>\n",
       "      <td>0.712538</td>\n",
       "      <td>1.092171</td>\n",
       "      <td>-0.387512</td>\n",
       "      <td>2.005672</td>\n",
       "      <td>0.376615</td>\n",
       "      <td>-1.109345</td>\n",
       "      <td>0.253843</td>\n",
       "    </tr>\n",
       "    <tr>\n",
       "      <th>3</th>\n",
       "      <td>1.254385</td>\n",
       "      <td>-1.372946</td>\n",
       "      <td>0.528981</td>\n",
       "      <td>-0.301567</td>\n",
       "      <td>0.784299</td>\n",
       "      <td>1.255592</td>\n",
       "      <td>0.156074</td>\n",
       "      <td>0.848909</td>\n",
       "      <td>0.315555</td>\n",
       "      <td>0.132971</td>\n",
       "      <td>...</td>\n",
       "      <td>0.944188</td>\n",
       "      <td>-0.855304</td>\n",
       "      <td>1.178894</td>\n",
       "      <td>-0.438498</td>\n",
       "      <td>0.147436</td>\n",
       "      <td>1.366684</td>\n",
       "      <td>-0.727741</td>\n",
       "      <td>0.848536</td>\n",
       "      <td>-0.289515</td>\n",
       "      <td>0.258888</td>\n",
       "    </tr>\n",
       "    <tr>\n",
       "      <th>4</th>\n",
       "      <td>0.660639</td>\n",
       "      <td>-1.372429</td>\n",
       "      <td>-0.659861</td>\n",
       "      <td>0.112586</td>\n",
       "      <td>1.430343</td>\n",
       "      <td>-1.310791</td>\n",
       "      <td>-0.752265</td>\n",
       "      <td>1.920216</td>\n",
       "      <td>0.875072</td>\n",
       "      <td>-0.749735</td>\n",
       "      <td>...</td>\n",
       "      <td>0.191787</td>\n",
       "      <td>-0.757916</td>\n",
       "      <td>0.376321</td>\n",
       "      <td>1.641113</td>\n",
       "      <td>-0.869943</td>\n",
       "      <td>0.067354</td>\n",
       "      <td>-0.160944</td>\n",
       "      <td>0.050742</td>\n",
       "      <td>0.983136</td>\n",
       "      <td>-0.370903</td>\n",
       "    </tr>\n",
       "  </tbody>\n",
       "</table>\n",
       "<p>5 rows × 30 columns</p>\n",
       "</div>"
      ],
      "text/plain": [
       "         0         1         2         3         4         5         6   \\\n",
       "0 -1.518932  0.321300  0.945455 -0.072256  0.409473 -1.362995 -0.212862   \n",
       "1 -0.105203 -0.722051  1.086884 -0.039275 -0.921971 -0.678778 -0.867372   \n",
       "2 -2.027633 -0.905148  0.167487  0.846800 -0.101617 -0.542838  0.339404   \n",
       "3  1.254385 -1.372946  0.528981 -0.301567  0.784299  1.255592  0.156074   \n",
       "4  0.660639 -1.372429 -0.659861  0.112586  1.430343 -1.310791 -0.752265   \n",
       "\n",
       "         7         8         9   ...        20        21        22        23  \\\n",
       "0 -0.036770 -0.910688  0.954694  ... -0.819680  1.164624 -0.585391 -0.492094   \n",
       "1 -1.513713  0.245102  0.588880  ... -0.770249  0.008376  0.545408 -0.446794   \n",
       "2  0.603289 -0.800783  0.191396  ...  1.679454  1.225616 -1.641671  0.712538   \n",
       "3  0.848909  0.315555  0.132971  ...  0.944188 -0.855304  1.178894 -0.438498   \n",
       "4  1.920216  0.875072 -0.749735  ...  0.191787 -0.757916  0.376321  1.641113   \n",
       "\n",
       "         24        25        26        27        28        29  \n",
       "0 -1.000171 -0.734669 -0.232060  0.444990  0.895813 -1.192356  \n",
       "1  1.045767 -0.439551 -3.905215 -0.446686  1.982113  0.034076  \n",
       "2  1.092171 -0.387512  2.005672  0.376615 -1.109345  0.253843  \n",
       "3  0.147436  1.366684 -0.727741  0.848536 -0.289515  0.258888  \n",
       "4 -0.869943  0.067354 -0.160944  0.050742  0.983136 -0.370903  \n",
       "\n",
       "[5 rows x 30 columns]"
      ]
     },
     "execution_count": 6,
     "metadata": {},
     "output_type": "execute_result"
    }
   ],
   "source": [
    "x.head()"
   ]
  },
  {
   "cell_type": "code",
   "execution_count": 7,
   "id": "d93a494f",
   "metadata": {},
   "outputs": [
    {
     "data": {
      "text/html": [
       "<div>\n",
       "<style scoped>\n",
       "    .dataframe tbody tr th:only-of-type {\n",
       "        vertical-align: middle;\n",
       "    }\n",
       "\n",
       "    .dataframe tbody tr th {\n",
       "        vertical-align: top;\n",
       "    }\n",
       "\n",
       "    .dataframe thead th {\n",
       "        text-align: right;\n",
       "    }\n",
       "</style>\n",
       "<table border=\"1\" class=\"dataframe\">\n",
       "  <thead>\n",
       "    <tr style=\"text-align: right;\">\n",
       "      <th></th>\n",
       "      <th>0</th>\n",
       "    </tr>\n",
       "  </thead>\n",
       "  <tbody>\n",
       "    <tr>\n",
       "      <th>0</th>\n",
       "      <td>0</td>\n",
       "    </tr>\n",
       "    <tr>\n",
       "      <th>1</th>\n",
       "      <td>1</td>\n",
       "    </tr>\n",
       "    <tr>\n",
       "      <th>2</th>\n",
       "      <td>0</td>\n",
       "    </tr>\n",
       "    <tr>\n",
       "      <th>3</th>\n",
       "      <td>1</td>\n",
       "    </tr>\n",
       "    <tr>\n",
       "      <th>4</th>\n",
       "      <td>0</td>\n",
       "    </tr>\n",
       "  </tbody>\n",
       "</table>\n",
       "</div>"
      ],
      "text/plain": [
       "   0\n",
       "0  0\n",
       "1  1\n",
       "2  0\n",
       "3  1\n",
       "4  0"
      ]
     },
     "execution_count": 7,
     "metadata": {},
     "output_type": "execute_result"
    }
   ],
   "source": [
    "y.head()"
   ]
  },
  {
   "cell_type": "code",
   "execution_count": 8,
   "id": "ef269625",
   "metadata": {},
   "outputs": [
    {
     "data": {
      "text/plain": [
       "0    30010\n",
       "1    29990\n",
       "dtype: int64"
      ]
     },
     "execution_count": 8,
     "metadata": {},
     "output_type": "execute_result"
    }
   ],
   "source": [
    "y.value_counts()"
   ]
  },
  {
   "cell_type": "code",
   "execution_count": 9,
   "id": "09c329e1",
   "metadata": {},
   "outputs": [],
   "source": [
    "from sklearn.model_selection import train_test_split\n",
    "xtrain, xtest, ytrain, ytest = train_test_split(x, y, test_size= 0.25, random_state= 42 )"
   ]
  },
  {
   "cell_type": "code",
   "execution_count": 10,
   "id": "291e99c0",
   "metadata": {},
   "outputs": [
    {
     "data": {
      "text/plain": [
       "(45000, 30)"
      ]
     },
     "execution_count": 10,
     "metadata": {},
     "output_type": "execute_result"
    }
   ],
   "source": [
    "xtrain.shape"
   ]
  },
  {
   "cell_type": "code",
   "execution_count": 11,
   "id": "a694cf8e",
   "metadata": {},
   "outputs": [
    {
     "data": {
      "text/plain": [
       "(15000, 30)"
      ]
     },
     "execution_count": 11,
     "metadata": {},
     "output_type": "execute_result"
    }
   ],
   "source": [
    "xtest.shape"
   ]
  },
  {
   "cell_type": "code",
   "execution_count": 12,
   "id": "16c7fb95",
   "metadata": {},
   "outputs": [],
   "source": [
    "from sklearn.tree import DecisionTreeClassifier\n",
    "clf = DecisionTreeClassifier()"
   ]
  },
  {
   "cell_type": "code",
   "execution_count": 13,
   "id": "659844d2",
   "metadata": {},
   "outputs": [
    {
     "data": {
      "text/plain": [
       "DecisionTreeClassifier()"
      ]
     },
     "execution_count": 13,
     "metadata": {},
     "output_type": "execute_result"
    }
   ],
   "source": [
    "clf.fit(xtrain, ytrain)"
   ]
  },
  {
   "cell_type": "code",
   "execution_count": 14,
   "id": "2c21a0d1",
   "metadata": {},
   "outputs": [
    {
     "data": {
      "text/plain": [
       "0.9052666666666667"
      ]
     },
     "execution_count": 14,
     "metadata": {},
     "output_type": "execute_result"
    }
   ],
   "source": [
    "clf.score(xtest, ytest)"
   ]
  },
  {
   "cell_type": "code",
   "execution_count": 15,
   "id": "544dc790",
   "metadata": {},
   "outputs": [],
   "source": [
    "train_scores = []\n",
    "test_scores = []"
   ]
  },
  {
   "cell_type": "code",
   "execution_count": 16,
   "id": "12c0b712",
   "metadata": {},
   "outputs": [],
   "source": [
    "max_dep = [n for n in range(1,30)]"
   ]
  },
  {
   "cell_type": "code",
   "execution_count": 17,
   "id": "c9219314",
   "metadata": {},
   "outputs": [
    {
     "name": "stdout",
     "output_type": "stream",
     "text": [
      "for depth = 1, traing_score = 0.899644, test_score = 0.899867\n",
      "for depth = 2, traing_score = 0.899644, test_score = 0.899867\n",
      "for depth = 3, traing_score = 0.905311, test_score = 0.905000\n",
      "for depth = 4, traing_score = 0.908756, test_score = 0.909133\n",
      "for depth = 5, traing_score = 0.911622, test_score = 0.911600\n",
      "for depth = 6, traing_score = 0.918133, test_score = 0.917000\n",
      "for depth = 7, traing_score = 0.927667, test_score = 0.920933\n",
      "for depth = 8, traing_score = 0.932800, test_score = 0.923267\n",
      "for depth = 9, traing_score = 0.939533, test_score = 0.924067\n",
      "for depth = 10, traing_score = 0.945289, test_score = 0.923467\n",
      "for depth = 11, traing_score = 0.952489, test_score = 0.920667\n",
      "for depth = 12, traing_score = 0.959067, test_score = 0.919400\n",
      "for depth = 13, traing_score = 0.964733, test_score = 0.917467\n",
      "for depth = 14, traing_score = 0.970489, test_score = 0.916867\n",
      "for depth = 15, traing_score = 0.975622, test_score = 0.916933\n",
      "for depth = 16, traing_score = 0.980333, test_score = 0.914667\n",
      "for depth = 17, traing_score = 0.983978, test_score = 0.911800\n",
      "for depth = 18, traing_score = 0.987689, test_score = 0.911133\n",
      "for depth = 19, traing_score = 0.989911, test_score = 0.911200\n",
      "for depth = 20, traing_score = 0.991667, test_score = 0.910133\n",
      "for depth = 21, traing_score = 0.993000, test_score = 0.909133\n",
      "for depth = 22, traing_score = 0.994111, test_score = 0.909067\n",
      "for depth = 23, traing_score = 0.994244, test_score = 0.908533\n",
      "for depth = 24, traing_score = 0.995756, test_score = 0.906667\n",
      "for depth = 25, traing_score = 0.996867, test_score = 0.906267\n",
      "for depth = 26, traing_score = 0.997600, test_score = 0.907667\n",
      "for depth = 27, traing_score = 0.998044, test_score = 0.907467\n",
      "for depth = 28, traing_score = 0.998533, test_score = 0.909000\n",
      "for depth = 29, traing_score = 0.998422, test_score = 0.907667\n"
     ]
    }
   ],
   "source": [
    "for depth in max_dep:\n",
    "    clf = DecisionTreeClassifier(max_depth= depth)\n",
    "    clf.fit(xtrain, ytrain)\n",
    "    \n",
    "    #train score\n",
    "    train_acc = clf.score(xtrain, ytrain)\n",
    "    train_scores.append(train_acc)\n",
    "    \n",
    "    #test score\n",
    "    test_acc = clf.score(xtest, ytest)\n",
    "    test_scores.append(test_acc)\n",
    "    \n",
    "    print('for depth = %d, traing_score = %f, test_score = %f' %(depth, train_acc, test_acc))\n",
    "#     print('for depth = {}, Traing_Score = {}, Test_Score = {}'.format(depth, train_acc, test_acc))"
   ]
  },
  {
   "cell_type": "code",
   "execution_count": 18,
   "id": "6b5fe48b",
   "metadata": {},
   "outputs": [],
   "source": [
    "from matplotlib import pyplot as plt"
   ]
  },
  {
   "cell_type": "code",
   "execution_count": 19,
   "id": "9f14f8e8",
   "metadata": {},
   "outputs": [
    {
     "data": {
      "text/plain": [
       "[1,\n",
       " 2,\n",
       " 3,\n",
       " 4,\n",
       " 5,\n",
       " 6,\n",
       " 7,\n",
       " 8,\n",
       " 9,\n",
       " 10,\n",
       " 11,\n",
       " 12,\n",
       " 13,\n",
       " 14,\n",
       " 15,\n",
       " 16,\n",
       " 17,\n",
       " 18,\n",
       " 19,\n",
       " 20,\n",
       " 21,\n",
       " 22,\n",
       " 23,\n",
       " 24,\n",
       " 25,\n",
       " 26,\n",
       " 27,\n",
       " 28,\n",
       " 29]"
      ]
     },
     "execution_count": 19,
     "metadata": {},
     "output_type": "execute_result"
    }
   ],
   "source": [
    "max_dep"
   ]
  },
  {
   "cell_type": "code",
   "execution_count": 20,
   "id": "2e42934b",
   "metadata": {},
   "outputs": [
    {
     "data": {
      "text/plain": [
       "29"
      ]
     },
     "execution_count": 20,
     "metadata": {},
     "output_type": "execute_result"
    }
   ],
   "source": [
    "len(test_scores)"
   ]
  },
  {
   "cell_type": "code",
   "execution_count": 22,
   "id": "6f9702b6",
   "metadata": {},
   "outputs": [
    {
     "data": {
      "image/png": "[encoded data removed]",
      "text/plain": [
       "<Figure size 432x288 with 1 Axes>"
      ]
     },
     "metadata": {
      "needs_background": "light"
     },
     "output_type": "display_data"
    }
   ],
   "source": [
    "plt.plot(max_dep, train_scores, '-o', color='green',label='training');\n",
    "plt.plot(max_dep, test_scores, '-o', color='blue',label='testing');"
   ]
  },
  {
   "cell_type": "code",
   "execution_count": null,
   "id": "6cba8103",
   "metadata": {},
   "outputs": [],
   "source": []
  }
 ],
 "metadata": {
  "kernelspec": {
   "display_name": "Python 3 (ipykernel)",
   "language": "python",
   "name": "python3"
  },
  "language_info": {
   "codemirror_mode": {
    "name": "ipython",
    "version": 3
   },
   "file_extension": ".py",
   "mimetype": "text/x-python",
   "name": "python",
   "nbconvert_exporter": "python",
   "pygments_lexer": "ipython3",
   "version": "3.9.12"
  }
 },
 "nbformat": 4,
 "nbformat_minor": 5
}
